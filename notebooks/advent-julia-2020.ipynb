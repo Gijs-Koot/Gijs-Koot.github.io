{
 "cells": [
  {
   "cell_type": "markdown",
   "metadata": {},
   "source": [
    "I just finished all 25 puzzles for the https://adventofcode.com/2020/. It was fun, I learned things and I took the chance to use the [Julia programming language](https://julialang.org/). Prior to this project, my experience with the language was working through some a couple of chapters in [Quantecon](https://julia.quantecon.org). I have also not participated in the Advent of Code competition before. "
   ]
  },
  {
   "cell_type": "markdown",
   "metadata": {},
   "source": [
    "## Advent of Code\n",
    "\n",
    "This is a competition consisting of 25 puzzles, released at midnight EST/UTC-5 every day starting December 1st, until December 25th. It has been running for a couple of years now. This year, 130k participants sent in the answer to the first puzzle, and around 10% of them persevered and finished all of the puzzles. There is a competition where every morning, the first 100 solutions get points awarded. My personal goal was to just finish the puzzles, following the strict time schedule would be an additional challenge I am not up for at this time. \n",
    "\n",
    "On December 2nd, it took \"goffrie\" 1 minute and 47 seconds to solve the second puzzle, this one https://adventofcode.com/2020/day/2. That's pretty incredible, just understanding it takes me 5 minutes. However, most puzzles are tricky but not hard, and can be finished well within one hour. "
   ]
  },
  {
   "cell_type": "markdown",
   "metadata": {},
   "source": [
    "## Julia\n",
    "\n",
    "In my job, I am primarily a Python programmer, and I sometimes use R for visualization or model fitting specifically. I have been following and experimenting with Julia over the last two years, but I haven't started using it professionally. Python and `pytorch` have been very effective for us. After this experience, I have become even more convinced that Julia is a candidate for replacing Python as the most popular language for data science. In general, its advanced compilation system is an advantage. And as I'm learning and working with the language, it just feels very well designed to me. \n",
    "\n",
    "The combination of Advent puzzles with Julia worked out very well. I think it's a great language for solving these problems, which is impressive, because Julia is designed for numerical and scientific computation. My solutions can be found on [a GitHub repository](https://github.com/Gijs-Koot/advent2020). \n",
    "\n",
    "Below some additional thoughts. "
   ]
  },
  {
   "cell_type": "markdown",
   "metadata": {},
   "source": [
    "## Learning path\n",
    "\n",
    "As an example of my learning, the problems all start with reading and parsing some input. Day one required reading an input file with some numbers"
   ]
  },
  {
   "cell_type": "code",
   "execution_count": 36,
   "metadata": {},
   "outputs": [
    {
     "name": "stdout",
     "output_type": "stream",
     "text": [
      "2000\n",
      "50\n",
      "1984\n",
      "1600\n",
      "1736\n"
     ]
    }
   ],
   "source": [
    "; head -5 ./input.txt"
   ]
  },
  {
   "cell_type": "markdown",
   "metadata": {},
   "source": [
    "On the first day, I used this"
   ]
  },
  {
   "cell_type": "code",
   "execution_count": 43,
   "metadata": {},
   "outputs": [
    {
     "data": {
      "text/plain": [
       "5-element Array{Int64,1}:\n",
       " 2000\n",
       "   50\n",
       " 1984\n",
       " 1600\n",
       " 1736"
      ]
     },
     "execution_count": 43,
     "metadata": {},
     "output_type": "execute_result"
    }
   ],
   "source": [
    "x = open(io -> read(io, String), \"input.txt\")\n",
    "y = map(s -> parse(Int, x[s.offset+1:s.offset+s.ncodeunits]), split(strip(x), \"\\n\"))\n",
    "y[1:5]"
   ]
  },
  {
   "cell_type": "markdown",
   "metadata": {},
   "source": [
    "Then I figured out a nice system with the `do` keyword"
   ]
  },
  {
   "cell_type": "code",
   "execution_count": 44,
   "metadata": {},
   "outputs": [
    {
     "data": {
      "text/plain": [
       "5-element Array{SubString{String},1}:\n",
       " \"2000\"\n",
       " \"50\"\n",
       " \"1984\"\n",
       " \"1600\"\n",
       " \"1736\""
      ]
     },
     "execution_count": 44,
     "metadata": {},
     "output_type": "execute_result"
    }
   ],
   "source": [
    "lines = open(\"./input.txt\") do io\n",
    "    return split(strip(read(io, String)), \"\\n\")\n",
    "end\n",
    "\n",
    "lines[1:5]"
   ]
  },
  {
   "cell_type": "markdown",
   "metadata": {},
   "source": [
    "After some more iterations, I figured out I could just do this"
   ]
  },
  {
   "cell_type": "code",
   "execution_count": 45,
   "metadata": {},
   "outputs": [
    {
     "data": {
      "text/plain": [
       "5-element Array{Int64,1}:\n",
       " 2000\n",
       "   50\n",
       " 1984\n",
       " 1600\n",
       " 1736"
      ]
     },
     "execution_count": 45,
     "metadata": {},
     "output_type": "execute_result"
    }
   ],
   "source": [
    "numbers = parse.(Int, readlines(\"input.txt\"))\n",
    "numbers[1:5]"
   ]
  },
  {
   "cell_type": "markdown",
   "metadata": {},
   "source": [
    "Nice! "
   ]
  },
  {
   "cell_type": "markdown",
   "metadata": {},
   "source": [
    "### Workflow\n",
    "\n",
    "I used `emacs`, with the `julia-repl-mode` plugin. This worked well except for sending functions I used a lot of Ctrl+Enters. I should just take the time to figure out a way to do that more efficiently. Compilation time was never a problem, I occasionally had the restart the kernel because I wanted to redefine types.  "
   ]
  },
  {
   "cell_type": "code",
   "execution_count": 50,
   "metadata": {},
   "outputs": [
    {
     "data": {
      "text/plain": [
       "\u001b[32m\u001b[1mTest Passed\u001b[22m\u001b[39m"
      ]
     },
     "execution_count": 50,
     "metadata": {},
     "output_type": "execute_result"
    }
   ],
   "source": [
    "# the testing macro worked great in this setup, I put in a lot of tests throughout the code\n",
    "\n",
    "using Test\n",
    "\n",
    "function s(a, b)\n",
    "    a + b\n",
    "end\n",
    "\n",
    "@test s(2, 3) == 5"
   ]
  },
  {
   "cell_type": "markdown",
   "metadata": {},
   "source": [
    "### It's all about arrays\n",
    "\n",
    "The big attraction of Julia over Python for is that it allows me to program performant algorithms in the language itself. In Python, I always cringe a bit when combing `numpy` with loops, or having a `pd.Series.apply` when working with `pandas`. In Julia, I am allowed to write for loops without feeling guilty, and they are fast! "
   ]
  },
  {
   "cell_type": "markdown",
   "metadata": {},
   "source": [
    "In Python, there are many packages for fast linear algebra, such as `numpy` or `torch`. However, these libraries don't work together well with other parts of the language or other packages, unless they are specifically designed for working together. Things such as automatic differentiation have to be built on top of an ecosystem. I think of `torch` and `numpy` as sublanguages of Python, with their own datatypes, statically typed arrays. That is not a problem in itself maybe, and very effective for the coming years, but I think in the long run, this can never match the possibilities in Julia. In the python ecosystem, interoperability is organized with brilliant, but cumbersome constructs like the `__array__` interface. That one works well, but who is familiar with `__geo_interface__` interface? To me, these ideas are all efforts to get performance by using Python's great flexibility to work around the imcompatiblity between dynamic typing and a real array type. In short, data comes in the form of big collections, and to work with those fast, I believe you need fixed-length data types. Julia has them. "
   ]
  },
  {
   "cell_type": "markdown",
   "metadata": {},
   "source": [
    "### Short is good\n",
    "\n",
    "I really liked the conciseness of the `.` operator, letting the function `hello` below operate on an array without additional work. And I'm also getting used to omitting the `return` statement actually. These are just small things that make me love a language. The first 10 days I stubbornly included a `return` statement, following the Python zen; \"Explicit is better than implicit\". The eleventh day I converted and left those prehistoric ideas behind me. "
   ]
  },
  {
   "cell_type": "code",
   "execution_count": 26,
   "metadata": {},
   "outputs": [
    {
     "data": {
      "text/plain": [
       "3-element Array{String,1}:\n",
       " \"Hello, Gijs!\"\n",
       " \"Hello, Simon!\"\n",
       " \"Hello, Geert!\""
      ]
     },
     "execution_count": 26,
     "metadata": {},
     "output_type": "execute_result"
    }
   ],
   "source": [
    "function hello(str)\n",
    "    \"Hello, $(str)!\"\n",
    "end\n",
    "\n",
    "names = [\"Gijs\", \"Simon\", \"Geert\"]\n",
    "\n",
    "hello.(names)"
   ]
  },
  {
   "cell_type": "markdown",
   "metadata": {},
   "source": [
    "### Losing explicit imports"
   ]
  },
  {
   "cell_type": "markdown",
   "metadata": {},
   "source": [
    "One thing that I like more in Python are the very explicit imports. Whenever you encounter a name in a python source file, you can know where it came from just by looking at the file. For example, when you want to use a `DefaultDict` in your code, you have two standard ways of getting access to the class, one way would be\n",
    "\n",
    "```\n",
    "from collections import DefaultDict\n",
    "\n",
    "x = DefaultDict(0)\n",
    "```\n",
    "\n",
    "or, alternatively\n",
    "\n",
    "```\n",
    "import collections\n",
    "\n",
    "x = collections.DefaultDict\n",
    "```\n",
    "\n",
    "Assuming you avoid `from collections import *`, which is recommended practice, you will be able to tell from which package the `DefaultDict` was imported. But in julia, `using` is more common than `import`, and there is no direct link between the imports and the names. "
   ]
  },
  {
   "cell_type": "code",
   "execution_count": 21,
   "metadata": {},
   "outputs": [
    {
     "data": {
      "text/plain": [
       "DefaultDict"
      ]
     },
     "execution_count": 21,
     "metadata": {},
     "output_type": "execute_result"
    }
   ],
   "source": [
    "using DataStructures\n",
    "using StatsBase\n",
    "\n",
    "x = DefaultDict"
   ]
  },
  {
   "cell_type": "markdown",
   "metadata": {},
   "source": [
    "In the case above, you don't know if you are using `Base.DefaultDict` or `DataStructures.DefaultDict`. In particular, the code will break if `StatsBase` starts exporting their own `DefaultDict`. Unlikely, but I like explicitness, and it just makes it easier to lookup definitions, both for me and for my editor. \n",
    "\n",
    "In Julia, the standard practice is thus the other way around. The explicit imports actually exist and work."
   ]
  },
  {
   "cell_type": "code",
   "execution_count": 20,
   "metadata": {},
   "outputs": [
    {
     "data": {
      "text/plain": [
       "DefaultDict"
      ]
     },
     "execution_count": 20,
     "metadata": {},
     "output_type": "execute_result"
    }
   ],
   "source": [
    "import DataStructures\n",
    "\n",
    "x = DataStructures.DefaultDict"
   ]
  },
  {
   "cell_type": "markdown",
   "metadata": {},
   "source": [
    "There was some interesting discussion on [Reddit](https://www.reddit.com/r/Julia/comments/kxhtvb/why_do_almost_all_julia_examples_pollute_the/) on this topic just this morning. "
   ]
  },
  {
   "cell_type": "markdown",
   "metadata": {},
   "source": [
    "### Splatted"
   ]
  },
  {
   "cell_type": "markdown",
   "metadata": {},
   "source": [
    "I use the asterisk in `python` all the time, even doing something like this. \n",
    "\n",
    "```\n",
    "x = [*range(5)]\n",
    "```\n",
    "\n",
    "I like it better than the ellipsis in Julia. "
   ]
  },
  {
   "cell_type": "code",
   "execution_count": 55,
   "metadata": {},
   "outputs": [
    {
     "data": {
      "text/plain": [
       "1035"
      ]
     },
     "execution_count": 55,
     "metadata": {},
     "output_type": "execute_result"
    }
   ],
   "source": [
    "x = collect(1:45)\n",
    "\n",
    "+(x...)"
   ]
  }
 ],
 "metadata": {
  "kernelspec": {
   "display_name": "Julia 1.5.2",
   "language": "julia",
   "name": "julia-1.5"
  },
  "language_info": {
   "file_extension": ".jl",
   "mimetype": "application/julia",
   "name": "julia",
   "version": "1.5.2"
  }
 },
 "nbformat": 4,
 "nbformat_minor": 4
}
